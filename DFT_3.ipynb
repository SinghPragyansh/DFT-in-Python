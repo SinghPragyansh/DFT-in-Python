{
 "cells": [
  {
   "cell_type": "markdown",
   "id": "519f7c50",
   "metadata": {},
   "source": [
    "## Molecular orbital (MO)\n",
    "We will get the energy of HOMO and LUMO. We will also visualize the MOs\n",
    "\n",
    "Let us start by running a SCF calculation"
   ]
  },
  {
   "cell_type": "code",
   "execution_count": 3,
   "id": "b0ffa59b",
   "metadata": {},
   "outputs": [],
   "source": [
    "from rdkit import Chem\n",
    "from rdkit.Chem import Draw\n",
    "from rdkit.Chem import AllChem\n",
    "from rdkit.Chem.Draw import IPythonConsole\n",
    "IPythonConsole.drawOptions.addAtomIndices = True"
   ]
  },
  {
   "cell_type": "code",
   "execution_count": 4,
   "id": "6ea69be1",
   "metadata": {},
   "outputs": [],
   "source": [
    "smiles = \"C=C\"\n",
    "mol = Chem.MolFromSmiles(smiles)\n",
    "mol = Chem.AddHs(mol)\n",
    "Chem.AllChem.EmbedMolecule(mol)\n",
    "Chem.MolToXYZFile(mol, \"Ethene.xyz\")"
   ]
  },
  {
   "cell_type": "code",
   "execution_count": 5,
   "id": "c0faf984",
   "metadata": {},
   "outputs": [],
   "source": [
    "from pyscf import gto, scf"
   ]
  },
  {
   "cell_type": "code",
   "execution_count": 6,
   "id": "8a68a174",
   "metadata": {},
   "outputs": [
    {
     "name": "stdout",
     "output_type": "stream",
     "text": [
      "converged SCF energy = -77.5597819144037\n"
     ]
    }
   ],
   "source": [
    "mol = gto.M(atom = \"Ethene.xyz\")\n",
    "\n",
    "mol.basis = \"6-31G\"\n",
    "mf = mol.KS()\n",
    "mf.xc = \"b3lyp\"\n",
    "neutral_energy = mf.kernel()"
   ]
  },
  {
   "cell_type": "markdown",
   "id": "f5b3f668",
   "metadata": {},
   "source": [
    "### Most electronic structure packages will give you HOMO and LUMO values. But here is how to get it manually\n",
    "\n",
    "1. Get the total number of electrons (n)\n",
    "2. HOMO is the n/2 orbital"
   ]
  },
  {
   "cell_type": "code",
   "execution_count": 7,
   "id": "616fffa8",
   "metadata": {},
   "outputs": [
    {
     "data": {
      "text/plain": [
       "16"
      ]
     },
     "execution_count": 7,
     "metadata": {},
     "output_type": "execute_result"
    }
   ],
   "source": [
    "n = mol.tot_electrons()\n",
    "n"
   ]
  },
  {
   "cell_type": "code",
   "execution_count": 8,
   "id": "84ecb551",
   "metadata": {},
   "outputs": [
    {
     "data": {
      "text/plain": [
       "array([-9.98598228, -9.98571455, -0.7208095 , -0.53264935, -0.44389373,\n",
       "       -0.36163251, -0.32052176, -0.21563197,  0.12567999,  0.4122534 ,\n",
       "        0.41925549,  0.44575869,  0.67443787,  0.71077329])"
      ]
     },
     "execution_count": 8,
     "metadata": {},
     "output_type": "execute_result"
    }
   ],
   "source": [
    "# display all the orbitals\n",
    "mf.mo_energy"
   ]
  },
  {
   "cell_type": "code",
   "execution_count": 9,
   "id": "c4fdc477",
   "metadata": {},
   "outputs": [
    {
     "data": {
      "text/plain": [
       "-0.21563197106806037"
      ]
     },
     "execution_count": 9,
     "metadata": {},
     "output_type": "execute_result"
    }
   ],
   "source": [
    "# HOMO is n/2 orbital. But python index starts from 0\n",
    "homo = mf.mo_energy[int(n/2)-1]\n",
    "homo"
   ]
  },
  {
   "cell_type": "code",
   "execution_count": 10,
   "id": "ac3dfe09",
   "metadata": {},
   "outputs": [
    {
     "data": {
      "text/plain": [
       "-5.867647817521418"
      ]
     },
     "execution_count": 10,
     "metadata": {},
     "output_type": "execute_result"
    }
   ],
   "source": [
    "# energy unit of cal is hartree, convert it to eV\n",
    "homo * 27.2114"
   ]
  },
  {
   "cell_type": "markdown",
   "id": "0ad7e5ae",
   "metadata": {},
   "source": [
    "#### MOs are regions of electron density. They can be visualized."
   ]
  },
  {
   "cell_type": "code",
   "execution_count": 13,
   "id": "ffffa37b",
   "metadata": {},
   "outputs": [],
   "source": [
    "from pyscf.tools import molden\n",
    "\n",
    "# write the surface to molden files\n",
    "\n",
    "with open(\"Ethene.molden\", 'w') as f1:\n",
    "    molden.header(mol, f1)\n",
    "    molden.orbital_coeff(mol, f1, mf.mo_coeff, ene = mf.mo_energy, occ = mf.mo_occ)\n",
    "    \n",
    "# these can be visualized with GUI softwares (Avogadro)"
   ]
  },
  {
   "cell_type": "markdown",
   "id": "18dd0ab1",
   "metadata": {},
   "source": [
    "### Charged system\n",
    "The systems we looked at were neutral. Let us run calculations for charged system"
   ]
  },
  {
   "cell_type": "code",
   "execution_count": 15,
   "id": "33ce60d5",
   "metadata": {},
   "outputs": [],
   "source": [
    "# Run single-point energy for cation of ethene"
   ]
  },
  {
   "cell_type": "code",
   "execution_count": 18,
   "id": "34f018dd",
   "metadata": {},
   "outputs": [],
   "source": [
    "from pyscf import gto, scf\n",
    "\n",
    "mol = gto.M(atom=\"Ethene.xyz\")\n",
    "mol.basis = \"6-31G\""
   ]
  },
  {
   "cell_type": "code",
   "execution_count": 25,
   "id": "017d5795",
   "metadata": {},
   "outputs": [],
   "source": [
    "########## SET CHARGE ################\n",
    "mol.charge = 1\n",
    "mol.spin = 1  # this is for number of unpaired electron, "
   ]
  },
  {
   "cell_type": "code",
   "execution_count": 26,
   "id": "5a73817a",
   "metadata": {},
   "outputs": [
    {
     "name": "stdout",
     "output_type": "stream",
     "text": [
      "converged SCF energy = -77.2036932645881  <S^2> = 0.7514781  2S+1 = 2.0014776\n"
     ]
    }
   ],
   "source": [
    "mf = mol.KS()\n",
    "mf.xc = 'b3lyp'\n",
    "cation_energy = mf.kernel()"
   ]
  },
  {
   "cell_type": "markdown",
   "id": "064fae74",
   "metadata": {},
   "source": [
    "#### Now that we have total energy of neutral molecule and cationic molecule, we can compute ionization energy"
   ]
  },
  {
   "cell_type": "code",
   "execution_count": 27,
   "id": "acd14ac2",
   "metadata": {},
   "outputs": [
    {
     "data": {
      "text/plain": [
       "-9.68967068559232"
      ]
     },
     "execution_count": 27,
     "metadata": {},
     "output_type": "execute_result"
    }
   ],
   "source": [
    "ionisation_energy = (neutral_energy - cation_energy) * 27.2114\n",
    "ionisation_energy"
   ]
  },
  {
   "cell_type": "code",
   "execution_count": 28,
   "id": "4e3fe25d",
   "metadata": {},
   "outputs": [
    {
     "name": "stdout",
     "output_type": "stream",
     "text": [
      "converged SCF energy = -77.291709099659  <S^2> = 0.7517066  2S+1 = 2.0017059\n"
     ]
    }
   ],
   "source": [
    "# for electron affinity\n",
    "mol.charge = -1\n",
    "mol.spin = 1\n",
    "mf = mol.KS()\n",
    "mf.xc = 'b3lyp'\n",
    "anion_energy = mf.kernel()"
   ]
  },
  {
   "cell_type": "code",
   "execution_count": 33,
   "id": "802c2a1e",
   "metadata": {},
   "outputs": [
    {
     "data": {
      "text/plain": [
       "7.294636591143115"
      ]
     },
     "execution_count": 33,
     "metadata": {},
     "output_type": "execute_result"
    }
   ],
   "source": [
    "# electron_affinity is the energy that we have to provide for an electron addition\n",
    "electron_affinity = (-1)*(neutral_energy - anion_energy) * 27.2114\n",
    "electron_affinity"
   ]
  },
  {
   "cell_type": "markdown",
   "id": "fa7030b5",
   "metadata": {},
   "source": [
    "## (Implicit modelling of) Solvent effects"
   ]
  },
  {
   "cell_type": "markdown",
   "id": "7cd76771",
   "metadata": {},
   "source": [
    "Adding actual solvent molecules (explicit solvation) is computationally expensive. Implicit solvation uses dielectric constant to model polarization charges in molecule. PCM and COSMO are popular solvation models.\n",
    "\n",
    "Here we will use COSMO as it is the model implemented in pySCF."
   ]
  },
  {
   "cell_type": "code",
   "execution_count": 47,
   "id": "e75e3c9f",
   "metadata": {},
   "outputs": [],
   "source": [
    "mol = gto.M(atom = \"Ethene.xyz\")\n",
    "mol.basis = \"6-31G\"\n",
    "mf = mol.KS()\n",
    "mf.xc = \"b3lyp\""
   ]
  },
  {
   "cell_type": "code",
   "execution_count": 48,
   "id": "cf5c7c2e",
   "metadata": {},
   "outputs": [],
   "source": [
    "# set solvent\n",
    "mf = mf.DDCOSMO()\n",
    "mf.with_solvent.eps = 35.688  # Acetonitrile"
   ]
  },
  {
   "cell_type": "code",
   "execution_count": 49,
   "id": "91987825",
   "metadata": {},
   "outputs": [
    {
     "name": "stdout",
     "output_type": "stream",
     "text": [
      "converged SCF energy = -77.5605507160989\n"
     ]
    }
   ],
   "source": [
    "# run single point energy\n",
    "mf = mf.run()\n",
    "\n",
    "# Total Energy\n",
    "neutral_energy_solvent = mf.e_tot"
   ]
  },
  {
   "cell_type": "code",
   "execution_count": 51,
   "id": "87ce9867",
   "metadata": {},
   "outputs": [
    {
     "data": {
      "text/plain": [
       "0.020920170449970535"
      ]
     },
     "execution_count": 51,
     "metadata": {},
     "output_type": "execute_result"
    }
   ],
   "source": [
    "# Solvent enthalpy\n",
    "solvent_enthalpy = (neutral_energy - neutral_energy_solvent) * 27.2114\n",
    "solvent_enthalpy"
   ]
  },
  {
   "cell_type": "markdown",
   "id": "ce72b5c0",
   "metadata": {},
   "source": [
    "## Time-dependent DFT (TD-DFT)\n",
    "Behind the scene of TD-DFT is similar to DFT. We have basis set, functional, charge, spin etc. The difference in the equation we solve.\n",
    "\n",
    "In DFT we solve time independent Kohn-Sham equation (similar to time independent Schrodinger equation). For TD-DFT we solve equation similar to time dependent Schrodinger equation\n",
    "\n",
    "                                 H^Ψ(x,t)=iℏ*(∂/∂t)Ψ(x,t)"
   ]
  },
  {
   "cell_type": "code",
   "execution_count": 64,
   "id": "4b907bdf",
   "metadata": {},
   "outputs": [],
   "source": [
    "from pyscf import gto, scf, dft, tddft"
   ]
  },
  {
   "cell_type": "code",
   "execution_count": 72,
   "id": "7f1e27ea",
   "metadata": {},
   "outputs": [
    {
     "name": "stdout",
     "output_type": "stream",
     "text": [
      "converged SCF energy = -77.5605507160989\n"
     ]
    }
   ],
   "source": [
    "mol = gto.M(atom = \"Ethene.xyz\")\n",
    "mol.basis= \"6-31G\"\n",
    "mf = dft.RKS(mol)\n",
    "mf.xc = 'b3lyp'\n",
    "\n",
    "# set solvent\n",
    "mf = mf.DDCOSMO()\n",
    "mf.with_solvent.eps = 35.688  # Acetonitrile\n",
    "mf = mf.run()"
   ]
  },
  {
   "cell_type": "code",
   "execution_count": 73,
   "id": "def1e2b9",
   "metadata": {},
   "outputs": [
    {
     "name": "stdout",
     "output_type": "stream",
     "text": [
      "Excited State energies (eV)\n",
      "[10.26790607 10.79627761 10.9847179  13.49573828 15.18372842 15.51866993\n",
      " 16.64698156 17.96497441 19.31008608 19.38130701]\n",
      "\n",
      "** Singlet excitation energies and oscillator strengths **\n",
      "Excited State   1:     10.26791 eV    120.75 nm  f=0.0000\n",
      "Excited State   2:     10.79628 eV    114.84 nm  f=0.4096\n",
      "Excited State   3:     10.98472 eV    112.87 nm  f=0.0000\n",
      "Excited State   4:     13.49574 eV     91.87 nm  f=0.0000\n",
      "Excited State   5:     15.18373 eV     81.66 nm  f=0.0000\n",
      "Excited State   6:     15.51867 eV     79.89 nm  f=0.0014\n",
      "Excited State   7:     16.64698 eV     74.48 nm  f=0.0000\n",
      "Excited State   8:     17.96497 eV     69.01 nm  f=0.4001\n",
      "Excited State   9:     19.31009 eV     64.21 nm  f=0.3203\n",
      "Excited State  10:     19.38131 eV     63.97 nm  f=0.1183\n"
     ]
    },
    {
     "data": {
      "text/plain": [
       "<pyscf.tdscf.rks.TDDFT at 0x7f134b397670>"
      ]
     },
     "execution_count": 73,
     "metadata": {},
     "output_type": "execute_result"
    }
   ],
   "source": [
    "# setup the tddft\n",
    "td = tddft.TDDFT(mf)\n",
    "\n",
    "# set type and number of states required for a particular spin configuration\n",
    "td.singlet = True\n",
    "td.nstates = 10\n",
    "\n",
    "# run TDDFT\n",
    "td.kernel()\n",
    "\n",
    "# analyze to show a table of excitations\n",
    "td.analyze()"
   ]
  },
  {
   "cell_type": "markdown",
   "id": "1702c927",
   "metadata": {},
   "source": [
    "## helper function to plot absorption spectrum"
   ]
  },
  {
   "cell_type": "code",
   "execution_count": 78,
   "id": "8c05c83d",
   "metadata": {},
   "outputs": [],
   "source": [
    "def plot_absorption(td_obj, step = 0.01, sigma = 0.05):\n",
    "    import scipy.constants as cst\n",
    "    import numpy as np\n",
    "    from scipy.stats import norm\n",
    "    import matplotlib.pyplot as plt\n",
    "    \n",
    "    # get transitions and convert them into eV\n",
    "    \n",
    "    transitions = td_obj.e * 27.2114\n",
    "    \n",
    "    # get oscillator strength\n",
    "    f = td_obj.oscillator_strength()\n",
    "    \n",
    "    # get min and max x_values for plot\n",
    "    min_val = min([val for val in transitions]) - 5.0 * sigma\n",
    "    max_val = max([val for val in transitions]) + 0.5 * sigma\n",
    "    \n",
    "    # number of data points in line\n",
    "    npts = int((max_val -min_val)/ step) + 1\n",
    "    \n",
    "    # geenrating the plot\n",
    "    ene_val = np.linspace(min_val, max_val, npts)    # in eV\n",
    "    lambda_val = [cst.h * cst.c / (val * cst.e) * 1.e9\n",
    "                 for val in ene_val]                       # in nm\n",
    "    \n",
    "    # sum of gaussiamn fucntions\n",
    "    spectra = np.zeros(npts)\n",
    "    for i in range(len(transitions)):\n",
    "        spectra += f[i] * norm.pdf(ene_val, transitions[i], sigma)\n",
    "        \n",
    "    spectra /= spectra.max()\n",
    "    \n",
    "    # plot the spectrum\n",
    "    plt.plot(lambda_val , spectra)\n",
    "    plt.xlabel(\"Wavelength (nm)\")\n",
    "    plt.ylabel(\"Absorption (au)\")"
   ]
  },
  {
   "cell_type": "code",
   "execution_count": 79,
   "id": "1d6ac062",
   "metadata": {},
   "outputs": [
    {
     "data": {
      "image/png": "[encoded data removed]",
      "text/plain": [
       "<Figure size 432x288 with 1 Axes>"
      ]
     },
     "metadata": {
      "needs_background": "light"
     },
     "output_type": "display_data"
    }
   ],
   "source": [
    "# plot the absorption\n",
    "plot_absorption(td)"
   ]
  },
  {
   "cell_type": "code",
   "execution_count": null,
   "id": "4ba4ba53",
   "metadata": {},
   "outputs": [],
   "source": []
  },
  {
   "cell_type": "code",
   "execution_count": null,
   "id": "c2a93b9c",
   "metadata": {},
   "outputs": [],
   "source": []
  }
 ],
 "metadata": {
  "kernelspec": {
   "display_name": "Python 3",
   "language": "python",
   "name": "python3"
  },
  "language_info": {
   "codemirror_mode": {
    "name": "ipython",
    "version": 3
   },
   "file_extension": ".py",
   "mimetype": "text/x-python",
   "name": "python",
   "nbconvert_exporter": "python",
   "pygments_lexer": "ipython3",
   "version": "3.8.8"
  }
 },
 "nbformat": 4,
 "nbformat_minor": 5
}
